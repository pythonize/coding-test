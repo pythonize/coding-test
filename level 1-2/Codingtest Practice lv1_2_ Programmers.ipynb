{
 "cells": [
  {
   "cell_type": "markdown",
   "id": "182c2095",
   "metadata": {},
   "source": [
    "1. 약수의 합\n",
    "\n",
    "제출 내역\n",
    "\n",
    "문제 설명\n",
    "\n",
    "정수 n을 입력받아 n의 약수를 모두 더한 값을 리턴하는 함수, solution을 완성해주세요.\n",
    "\n",
    "제한 사항\n",
    "\n",
    "n은 0 이상 3000이하인 정수입니다.\n",
    "\n",
    "입출력 예\n",
    "\n",
    "n\treturn\n",
    "\n",
    "12\t28\n",
    "5\t6\n",
    "\n",
    "입출력 예 설명\n",
    "\n",
    "입출력 예 #1\n",
    "\n",
    "12의 약수는 1, 2, 3, 4, 6, 12입니다. 이를 모두 더하면 28입니다.\n",
    "\n",
    "입출력 예 #2\n",
    "\n",
    "5의 약수는 1, 5입니다. 이를 모두 더하면 6입니다."
   ]
  },
  {
   "cell_type": "code",
   "execution_count": 15,
   "id": "b352e5c1",
   "metadata": {},
   "outputs": [],
   "source": [
    "def solution(n):\n",
    "    total = 0  \n",
    "    for i in range(1, n + 1):\n",
    "        if n % i == 0:  \n",
    "            total += i\n",
    "    return total"
   ]
  },
  {
   "cell_type": "markdown",
   "id": "9d9a0d47",
   "metadata": {},
   "source": [
    " "
   ]
  },
  {
   "cell_type": "markdown",
   "id": "e136a0b8",
   "metadata": {},
   "source": [
    "2. 문자열을 정수로 바꾸기"
   ]
  },
  {
   "cell_type": "markdown",
   "id": "3846f5a3",
   "metadata": {},
   "source": [
    "문자열 s를 숫자로 변환한 결과를 반환하는 함수, solution을 완성하세요.\n",
    "\n",
    "제한 조건\n",
    "s의 길이는 1 이상 5이하입니다.\n",
    "s의 맨앞에는 부호(+, -)가 올 수 있습니다.\n",
    "s는 부호와 숫자로만 이루어져있습니다.\n",
    "s는 \"0\"으로 시작하지 않습니다.\n",
    "입출력 예\n",
    "예를들어 str이 \"1234\"이면 1234를 반환하고, \"-1234\"이면 -1234를 반환하면 됩니다.\n",
    "str은 부호(+,-)와 숫자로만 구성되어 있고, 잘못된 값이 입력되는 경우는 없습니다."
   ]
  },
  {
   "cell_type": "code",
   "execution_count": 8,
   "id": "99052a1d",
   "metadata": {},
   "outputs": [],
   "source": [
    "def solution(s):\n",
    "    answer = int(s)\n",
    "    return answer"
   ]
  },
  {
   "cell_type": "code",
   "execution_count": 9,
   "id": "a5ba6ba1",
   "metadata": {},
   "outputs": [
    {
     "data": {
      "text/plain": [
       "1234"
      ]
     },
     "execution_count": 9,
     "metadata": {},
     "output_type": "execute_result"
    }
   ],
   "source": [
    "solution(1234)"
   ]
  },
  {
   "cell_type": "markdown",
   "id": "2e29469c",
   "metadata": {},
   "source": [
    " "
   ]
  },
  {
   "cell_type": "markdown",
   "id": "61b1c152",
   "metadata": {},
   "source": [
    "3. 나머지가 1이 되는 수 찾기"
   ]
  },
  {
   "cell_type": "markdown",
   "id": "a661ec00",
   "metadata": {},
   "source": [
    "문제 설명\n",
    "\n",
    "자연수 n이 매개변수로 주어집니다. n을 x로 나눈 나머지가 1이 되도록 하는 가장 작은 자연수 x를 return 하도록 solution 함수를 완성해주세요. 답이 항상 존재함은 증명될 수 있습니다.\n",
    "\n",
    "제한사항\n",
    "3 ≤ n ≤ 1,000,000\n",
    "\n",
    "입출력 예\n",
    "\n",
    "n\tresult\n",
    "\n",
    "10\t3\n",
    "\n",
    "12\t11\n",
    "\n",
    "입출력 예 설명\n",
    "\n",
    "입출력 예 #1\n",
    "\n",
    "10을 3으로 나눈 나머지가 1이고, 3보다 작은 자연수 중에서 문제의 조건을 만족하는 수가 없으므로, 3을 return 해야 합니다.\n",
    "\n",
    "입출력 예 #2\n",
    "\n",
    "12를 11로 나눈 나머지가 1이고, 11보다 작은 자연수 중에서 문제의 조건을 만족하는 수가 없으므로, 11을 return 해야 합니다."
   ]
  },
  {
   "cell_type": "code",
   "execution_count": null,
   "id": "6168dcd2",
   "metadata": {},
   "outputs": [],
   "source": [
    "def solution(n):\n",
    "    for x in range(1:n+1):\n",
    "        if n%x == 1:\n",
    "            answer = x\n",
    "            return answer\n",
    "        else:\n",
    "            continue"
   ]
  },
  {
   "cell_type": "code",
   "execution_count": 12,
   "id": "b4ce6e4f",
   "metadata": {},
   "outputs": [],
   "source": [
    "def solution(n):\n",
    "    for x in range(1, n):\n",
    "        if n%x == 1:\n",
    "            answer = x\n",
    "            return answer\n",
    "        else:\n",
    "            continue"
   ]
  },
  {
   "cell_type": "code",
   "execution_count": 13,
   "id": "272ec03e",
   "metadata": {},
   "outputs": [
    {
     "data": {
      "text/plain": [
       "11"
      ]
     },
     "execution_count": 13,
     "metadata": {},
     "output_type": "execute_result"
    }
   ],
   "source": [
    "solution(12)"
   ]
  },
  {
   "cell_type": "markdown",
   "id": "0bf2da79",
   "metadata": {},
   "source": [
    " 4. x만큼 간격이 있는 n개의 숫자\n",
    "\n",
    "제출 내역\n",
    "\n",
    "문제 설명\n",
    "\n",
    "함수 solution은 정수 x와 자연수 n을 입력 받아, x부터 시작해 x씩 증가하는 숫자를 n개 지니는 리스트를 리턴해야 합니다. 다음 제한 조건을 보고, 조건을 만족하는 함수, solution을 완성해주세요.\n",
    "\n",
    "제한 조건\n",
    "\n",
    "x는 -10000000 이상, 10000000 이하인 정수입니다.\n",
    "\n",
    "n은 1000 이하인 자연수입니다.\n",
    "\n",
    "입출력 예\n",
    "\n",
    "x\tn\tanswer\n",
    "\n",
    "2\t5\t[2,4,6,8,10]\n",
    "\n",
    "4\t3\t[4,8,12]\n",
    "\n",
    "-4\t2\t[-4, -8]"
   ]
  },
  {
   "cell_type": "code",
   "execution_count": 24,
   "id": "03b60bbf",
   "metadata": {},
   "outputs": [],
   "source": [
    "answer = []\n",
    "def solution(x, n):\n",
    "    a = 0\n",
    "    global answer\n",
    "    for i in range(n):\n",
    "        a = x*(i+1)\n",
    "        answer.append(a)\n",
    "    return answer"
   ]
  },
  {
   "cell_type": "code",
   "execution_count": 25,
   "id": "1078e1ba",
   "metadata": {},
   "outputs": [
    {
     "data": {
      "text/plain": [
       "[4, 8, 12]"
      ]
     },
     "execution_count": 25,
     "metadata": {},
     "output_type": "execute_result"
    }
   ],
   "source": [
    "solution(4,3)"
   ]
  },
  {
   "cell_type": "markdown",
   "id": "9a9a7869",
   "metadata": {},
   "source": [
    "개선된 코드"
   ]
  },
  {
   "cell_type": "code",
   "execution_count": 1,
   "id": "29f9ccee",
   "metadata": {},
   "outputs": [],
   "source": [
    "def solution(x, n):\n",
    "    return [x * (i + 1) for i in range(n)]"
   ]
  },
  {
   "cell_type": "markdown",
   "id": "e78759db",
   "metadata": {},
   "source": [
    " 5. 평균 구하기\n",
    " \n",
    " \n",
    " 문제 설명\n",
    " \n",
    "정수를 담고 있는 배열 arr의 평균값을 return하는 함수, solution을 완성해보세요.\n",
    "\n",
    "제한사항\n",
    "\n",
    "arr은 길이 1 이상, 100 이하인 배열입니다.\n",
    "\n",
    "arr의 원소는 -10,000 이상 10,000 이하인 정수입니다.\n",
    "\n",
    "입출력 예\n",
    "\n",
    "arr\treturn\n",
    "\n",
    "[1,2,3,4]\t2.5\n",
    "\n",
    "[5,5]\t5"
   ]
  },
  {
   "cell_type": "code",
   "execution_count": 4,
   "id": "ad5e7f45",
   "metadata": {},
   "outputs": [],
   "source": [
    "def solution(arr):\n",
    "    answer = sum(arr)/len(arr)\n",
    "    return answer"
   ]
  },
  {
   "cell_type": "code",
   "execution_count": 5,
   "id": "a561df4c",
   "metadata": {},
   "outputs": [],
   "source": [
    "arr = [1,2,3,4]"
   ]
  },
  {
   "cell_type": "code",
   "execution_count": 6,
   "id": "92efe674",
   "metadata": {},
   "outputs": [
    {
     "data": {
      "text/plain": [
       "2.5"
      ]
     },
     "execution_count": 6,
     "metadata": {},
     "output_type": "execute_result"
    }
   ],
   "source": [
    "solution(arr)"
   ]
  },
  {
   "cell_type": "markdown",
   "id": "8a3d71e9",
   "metadata": {},
   "source": [
    "6. 짝수와 홀수\n",
    "\n",
    "문제 설명\n",
    "\n",
    "정수 num이 짝수일 경우 \"Even\"을 반환하고 홀수인 경우 \"Odd\"를 반환하는 함수, solution을 완성해주세요.\n",
    "\n",
    "제한 조건\n",
    "\n",
    "num은 int 범위의 정수입니다.\n",
    "\n",
    "0은 짝수입니다.\n",
    "\n",
    "입출력 예\n",
    "\n",
    "num\treturn\n",
    "\n",
    "3\t\"Odd\"\n",
    "\n",
    "4\t\"Even\""
   ]
  },
  {
   "cell_type": "code",
   "execution_count": 14,
   "id": "7b178c35",
   "metadata": {},
   "outputs": [],
   "source": [
    "def solution(num):\n",
    "    return 'Even' if num%2 == 0 else 'Odd'"
   ]
  },
  {
   "cell_type": "code",
   "execution_count": 15,
   "id": "7dd038e5",
   "metadata": {},
   "outputs": [
    {
     "data": {
      "text/plain": [
       "'Odd'"
      ]
     },
     "execution_count": 15,
     "metadata": {},
     "output_type": "execute_result"
    }
   ],
   "source": [
    "solution(3)"
   ]
  },
  {
   "cell_type": "code",
   "execution_count": null,
   "id": "cb070eca",
   "metadata": {},
   "outputs": [],
   "source": []
  }
 ],
 "metadata": {
  "kernelspec": {
   "display_name": "Python 3 (ipykernel)",
   "language": "python",
   "name": "python3"
  },
  "language_info": {
   "codemirror_mode": {
    "name": "ipython",
    "version": 3
   },
   "file_extension": ".py",
   "mimetype": "text/x-python",
   "name": "python",
   "nbconvert_exporter": "python",
   "pygments_lexer": "ipython3",
   "version": "3.9.12"
  }
 },
 "nbformat": 4,
 "nbformat_minor": 5
}
